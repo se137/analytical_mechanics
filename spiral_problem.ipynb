import numpy as np
import matplotlib.pyplot as plt
import matplotlib.animation as animation
from mpl_toolkits.mplot3d import Axes3D

def func(num, dataSet, line):                             #animation function
    line.set_data(dataSet[0:2, :num])
    line.set_3d_properties(dataSet[2, :num])
    return line

#Radius and omega values
R = 2.0
w = 1.0
g = 9.8

#trajectory data
t = np.arange(0, 20, 0.2)
z = -0.5*g*(t**2)
x = R*np.cos(w*t)
y = R*np.sin(w*t)
dataSet = np.array([x, y, z, t])
numDataPoints = len(t)

#create plotting environment
fig = plt.figure()
ax = Axes3D(fig)

line = plt.plot(dataSet[0], dataSet[1], dataSet[2])[0]

ax.set_xlabel('X(t)')
ax.set_ylabel('Y(t)')
ax.set_zlabel('Z(t)')
ax.set_title('Spiral Problem')

line_ani = animation.FuncAnimation(fig, func, frames=numDataPoints, fargs=(dataSet,line), interval=50, blit=False)
line_ani.save('AnimationNew.gif')

plt.show()
