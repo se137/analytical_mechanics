{
 "cells": [
  {
   "cell_type": "code",
   "execution_count": 1,
   "metadata": {},
   "outputs": [
    {
     "data": {
      "text/plain": [
       "<Figure size 640x480 with 1 Axes>"
      ]
     },
     "metadata": {},
     "output_type": "display_data"
    }
   ],
   "source": [
    "import numpy as np\n",
    "import matplotlib.pyplot as plt\n",
    "import matplotlib.animation as animation\n",
    "from mpl_toolkits.mplot3d import Axes3D\n",
    " \n",
    "# References\n",
    "# https://gist.github.com/neale/e32b1f16a43bfdc0608f45a504df5a84\n",
    "# https://towardsdatascience.com/animations-with-matplotlib-d96375c5442c\n",
    "# https://riptutorial.com/matplotlib/example/23558/basic-animation-with-funcanimation\n",
    " \n",
    "# ANIMATION FUNCTION\n",
    "def func(num, dataSet, line, redDots):\n",
    "    # NOTE: there is no .set_data() for 3 dim data...\n",
    "    line.set_data(dataSet[0:2, :num])    \n",
    "    line.set_3d_properties(dataSet[2, :num])    \n",
    "    redDots.set_data(dataSet[0:2, :num])    \n",
    "    redDots.set_3d_properties(dataSet[2, :num]) \n",
    "    return line\n",
    " \n",
    " \n",
    "# THE DATA POINTS\n",
    "t = np.arange(0,20,0.2) # This would be the z-axis ('t' means time here)\n",
    "x = np.cos(t)-1\n",
    "y = 1/2*(np.cos(2*t)-1)\n",
    "dataSet = np.array([x, y, t])\n",
    "numDataPoints = len(t)\n",
    " \n",
    "# GET SOME MATPLOTLIB OBJECTS\n",
    "fig = plt.figure()\n",
    "ax = Axes3D(fig)\n",
    "redDots = plt.plot(dataSet[0], dataSet[1], dataSet[2], lw=2, c='r', marker='o')[0] # For scatter plot\n",
    "# NOTE: Can't pass empty arrays into 3d version of plot()\n",
    "line = plt.plot(dataSet[0], dataSet[1], dataSet[2], lw=2, c='g')[0] # For line plot\n",
    " \n",
    "# AXES PROPERTIES]\n",
    "# ax.set_xlim3d([limit0, limit1])\n",
    "ax.set_xlabel('X(t)')\n",
    "ax.set_ylabel('Y(t)')\n",
    "ax.set_zlabel('time')\n",
    "ax.set_title('Trajectory of electron for E vector along [120]')\n",
    " \n",
    "# Creating the Animation object\n",
    "line_ani = animation.FuncAnimation(fig, func, frames=numDataPoints, fargs=(dataSet,line,redDots), interval=50, blit=False)\n",
    "line_ani.save(r'AnimationEField.mp4')\n",
    " \n",
    " \n",
    "plt.show()"
   ]
  },
  {
   "cell_type": "code",
   "execution_count": null,
   "metadata": {},
   "outputs": [],
   "source": []
  }
 ],
 "metadata": {
  "kernelspec": {
   "display_name": "Python 3",
   "language": "python",
   "name": "python3"
  },
  "language_info": {
   "codemirror_mode": {
    "name": "ipython",
    "version": 3
   },
   "file_extension": ".py",
   "mimetype": "text/x-python",
   "name": "python",
   "nbconvert_exporter": "python",
   "pygments_lexer": "ipython3",
   "version": "3.7.1"
  }
 },
 "nbformat": 4,
 "nbformat_minor": 2
}
