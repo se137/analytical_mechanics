{
 "cells": [
  {
   "cell_type": "code",
   "execution_count": 3,
   "metadata": {},
   "outputs": [
    {
     "data": {
      "image/png": "[encoded data removed]",
      "text/plain": [
       "<Figure size 432x288 with 1 Axes>"
      ]
     },
     "metadata": {
      "needs_background": "light"
     },
     "output_type": "display_data"
    }
   ],
   "source": [
    "import numpy as np\n",
    "import matplotlib.pyplot as plt\n",
    "import matplotlib.animation as animation\n",
    " \n",
    "# References\n",
    "# https://towardsdatascience.com/animations-with-matplotlib-d96375c5442c\n",
    "# https://riptutorial.com/matplotlib/example/23558/basic-animation-with-funcanimation\n",
    " \n",
    "def func(t, line):\n",
    "    t = np.arange(0,t,0.1)\n",
    "    y = np.sin(t)\n",
    "    line.set_data(t, y)\n",
    "    return line\n",
    " \n",
    "fig = plt.figure()\n",
    "ax = plt.axes(xlim=(0, 100), ylim=(-1.2, 1.22))\n",
    "redDots = plt.plot([], [], 'ro')\n",
    "line = plt.plot([], [], lw=2)\n",
    " \n",
    "# Creating the Animation object\n",
    "line_ani = animation.FuncAnimation(fig, func, frames=np.arange(1,100,0.1), fargs=(line), interval=100, blit=False)\n",
    "line_ani.save(r'Animation.mp4')\n",
    "#line_ani.save('Animation.gif')\n",
    " \n",
    " \n",
    "plt.show()"
   ]
  },
  {
   "cell_type": "code",
   "execution_count": null,
   "metadata": {},
   "outputs": [],
   "source": []
  }
 ],
 "metadata": {
  "kernelspec": {
   "display_name": "Python 3",
   "language": "python",
   "name": "python3"
  },
  "language_info": {
   "codemirror_mode": {
    "name": "ipython",
    "version": 3
   },
   "file_extension": ".py",
   "mimetype": "text/x-python",
   "name": "python",
   "nbconvert_exporter": "python",
   "pygments_lexer": "ipython3",
   "version": "3.7.1"
  }
 },
 "nbformat": 4,
 "nbformat_minor": 2
}
